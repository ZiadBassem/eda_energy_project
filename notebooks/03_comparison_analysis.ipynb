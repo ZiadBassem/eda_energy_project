{
 "cells": [
  {
   "cell_type": "code",
   "execution_count": null,
   "id": "13147736-c32e-46d5-bd70-01009503e0fd",
   "metadata": {},
   "outputs": [],
   "source": []
  }
 ],
 "metadata": {
  "kernelspec": {
   "display_name": "Python (energy_eda)",
   "language": "python",
   "name": "energy_eda"
  },
  "language_info": {
   "codemirror_mode": {
    "name": "ipython",
    "version": 3
   },
   "file_extension": ".py",
   "mimetype": "text/x-python",
   "name": "python",
   "nbconvert_exporter": "python",
   "pygments_lexer": "ipython3",
   "version": "3.10.18"
  }
 },
 "nbformat": 4,
 "nbformat_minor": 5
}
